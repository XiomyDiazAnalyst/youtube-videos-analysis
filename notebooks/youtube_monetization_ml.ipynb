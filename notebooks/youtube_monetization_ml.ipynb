{
 "cells": [
  {
   "attachments": {},
   "cell_type": "markdown",
   "id": "c0969eaa",
   "metadata": {},
   "source": [
    "# Monetización en Youtube con Machine Learning\n",
    "\n",
    "#### Xiomy Diaz Morales - TFM Máster Universitario en Análisis y Visualización de Datos"
   ]
  },
  {
   "cell_type": "markdown",
   "id": "64893bd5",
   "metadata": {},
   "source": [
    "### Librerías"
   ]
  },
  {
   "cell_type": "code",
   "execution_count": 1,
   "id": "722df29c",
   "metadata": {},
   "outputs": [],
   "source": [
    "# Importar las bibliotecas principales\n",
    "import pandas as pd\n",
    "import matplotlib.pyplot as plt\n",
    "import seaborn as sns\n",
    "\n",
    "# Configurar el estilo de las gráficas\n",
    "sns.set(style=\"whitegrid\")\n"
   ]
  },
  {
   "cell_type": "markdown",
   "id": "23590e62",
   "metadata": {},
   "source": [
    "### Dataset"
   ]
  },
  {
   "cell_type": "code",
   "execution_count": null,
   "id": "69a91ff5",
   "metadata": {},
   "outputs": [],
   "source": [
    "# Cargar el dataset\n",
    "file_path = 'ruta_del_dataset.csv'  # Cambia esto por la ruta del archivo\n",
    "df = pd.read_csv(file_path)\n",
    "\n",
    "# Mostrar las primeras filas del dataset\n",
    "df.head()\n"
   ]
  }
 ],
 "metadata": {
  "kernelspec": {
   "display_name": "Python 3 (ipykernel)",
   "language": "python",
   "name": "python3"
  },
  "language_info": {
   "codemirror_mode": {
    "name": "ipython",
    "version": 3
   },
   "file_extension": ".py",
   "mimetype": "text/x-python",
   "name": "python",
   "nbconvert_exporter": "python",
   "pygments_lexer": "ipython3",
   "version": "3.9.7"
  }
 },
 "nbformat": 4,
 "nbformat_minor": 5
}
